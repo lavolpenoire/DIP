{
 "cells": [
  {
   "cell_type": "markdown",
   "metadata": {
    "colab_type": "text",
    "id": "view-in-github"
   },
   "source": []
  },
  {
   "cell_type": "code",
   "execution_count": null,
   "metadata": {
    "id": "9NtRMkxV_gfQ"
   },
   "outputs": [],
   "source": [
    "import numpy as np\n",
    "import cv2\n",
    "from google.colab.patches import cv2_imshow"
   ]
  },
  {
   "cell_type": "markdown",
   "metadata": {
    "id": "fygrWIFrfati"
   },
   "source": [
    "#1. Створити двомірний нульовий масив розміром 11х11 та заповнити його діагоналі одиницями."
   ]
  },
  {
   "cell_type": "code",
   "execution_count": null,
   "metadata": {
    "id": "K7EbvySscIQ_"
   },
   "outputs": [],
   "source": [
    "size = 11"
   ]
  },
  {
   "cell_type": "code",
   "execution_count": null,
   "metadata": {
    "id": "aFASfi4mdm58"
   },
   "outputs": [],
   "source": [
    "arr = np.zeros((size,size),dtype=int)"
   ]
  },
  {
   "cell_type": "code",
   "execution_count": null,
   "metadata": {
    "colab": {
     "base_uri": "https://localhost:8080/"
    },
    "id": "igSHV-Xed7eK",
    "outputId": "0a0f9867-ddb1-4fec-cd47-ae80c1475c89"
   },
   "outputs": [
    {
     "name": "stdout",
     "output_type": "stream",
     "text": [
      "[[1 0 0 0 0 0 0 0 0 0 0]\n",
      " [0 1 0 0 0 0 0 0 0 0 0]\n",
      " [0 0 1 0 0 0 0 0 0 0 0]\n",
      " [0 0 0 1 0 0 0 0 0 0 0]\n",
      " [0 0 0 0 1 0 0 0 0 0 0]\n",
      " [0 0 0 0 0 1 0 0 0 0 0]\n",
      " [0 0 0 0 0 0 1 0 0 0 0]\n",
      " [0 0 0 0 0 0 0 1 0 0 0]\n",
      " [0 0 0 0 0 0 0 0 1 0 0]\n",
      " [0 0 0 0 0 0 0 0 0 1 0]\n",
      " [0 0 0 0 0 0 0 0 0 0 1]]\n"
     ]
    }
   ],
   "source": [
    "for i in range(size):\n",
    "\tfor j in range(size):\n",
    "\t\tif (i == j ):\n",
    "\t\t\tarr[i][j] = 1\n",
    "\n",
    "print(arr)"
   ]
  },
  {
   "cell_type": "code",
   "execution_count": null,
   "metadata": {
    "colab": {
     "base_uri": "https://localhost:8080/"
    },
    "id": "Mj8r09A8ljFD",
    "outputId": "e71b7e74-5212-41d4-8df3-c5eb4b80026f"
   },
   "outputs": [
    {
     "name": "stdout",
     "output_type": "stream",
     "text": [
      "[[1 0 0 0 0 0 0 0 0 0 0]\n",
      " [0 1 0 0 0 0 0 0 0 0 0]\n",
      " [0 0 1 0 0 0 0 0 0 0 0]\n",
      " [0 0 0 1 0 0 0 0 0 0 0]\n",
      " [0 0 0 0 1 0 0 0 0 0 0]\n",
      " [0 0 0 0 0 1 0 0 0 0 0]\n",
      " [0 0 0 0 0 0 1 0 0 0 0]\n",
      " [0 0 0 0 0 0 0 1 0 0 0]\n",
      " [0 0 0 0 0 0 0 0 1 0 0]\n",
      " [0 0 0 0 0 0 0 0 0 1 0]\n",
      " [0 0 0 0 0 0 0 0 0 0 1]]\n"
     ]
    }
   ],
   "source": [
    "print(np.eye(size,dtype=int))"
   ]
  },
  {
   "cell_type": "markdown",
   "metadata": {
    "id": "u0Wy3G6QnyVA"
   },
   "source": [
    "#2. Засобами NumPy створити вертикальні та горизонтальні зображення градієнту в обидва боки (поступове збільшення яскравості на зображенні)."
   ]
  },
  {
   "cell_type": "code",
   "execution_count": null,
   "metadata": {
    "id": "ZRVxJvVNp3wQ"
   },
   "outputs": [],
   "source": [
    "size=255"
   ]
  },
  {
   "cell_type": "code",
   "execution_count": null,
   "metadata": {
    "id": "BNwKW6Ysnz09"
   },
   "outputs": [],
   "source": [
    "horizontal_gradient1 = np.zeros((size,size),dtype=float)"
   ]
  },
  {
   "cell_type": "code",
   "execution_count": null,
   "metadata": {
    "colab": {
     "base_uri": "https://localhost:8080/"
    },
    "id": "TF_Ta390pFyt",
    "outputId": "ecd79ef3-124b-4f79-9b9a-7d4b84b0991b"
   },
   "outputs": [
    {
     "name": "stdout",
     "output_type": "stream",
     "text": [
      "255 255\n"
     ]
    }
   ],
   "source": [
    "w,h = horizontal_gradient1.shape\n",
    "print(w,h)"
   ]
  },
  {
   "cell_type": "code",
   "execution_count": null,
   "metadata": {
    "id": "T5FdlfgM086J"
   },
   "outputs": [],
   "source": [
    "horizontal_gradient2 = horizontal_gradient1.copy()"
   ]
  },
  {
   "cell_type": "code",
   "execution_count": null,
   "metadata": {
    "colab": {
     "base_uri": "https://localhost:8080/"
    },
    "id": "27JBkncxqE2N",
    "outputId": "bf522696-902c-4c1a-8524-e93ad7ba2c1e"
   },
   "outputs": [
    {
     "name": "stdout",
     "output_type": "stream",
     "text": [
      "[[  0.   1.   2. ... 252. 253. 254.]\n",
      " [  0.   1.   2. ... 252. 253. 254.]\n",
      " [  0.   1.   2. ... 252. 253. 254.]\n",
      " ...\n",
      " [  0.   1.   2. ... 252. 253. 254.]\n",
      " [  0.   1.   2. ... 252. 253. 254.]\n",
      " [  0.   1.   2. ... 252. 253. 254.]] \n",
      "----------------------------------------\n",
      " [[  0.   0.   0. ...   0.   0.   0.]\n",
      " [  1.   1.   1. ...   1.   1.   1.]\n",
      " [  2.   2.   2. ...   2.   2.   2.]\n",
      " ...\n",
      " [252. 252. 252. ... 252. 252. 252.]\n",
      " [253. 253. 253. ... 253. 253. 253.]\n",
      " [254. 254. 254. ... 254. 254. 254.]]\n"
     ]
    }
   ],
   "source": [
    "for i in range(w):\n",
    "    for j in range(h):\n",
    "        horizontal_gradient1[i][j] = j\n",
    "        horizontal_gradient2[i][j] = i\n",
    "\n",
    "print(horizontal_gradient1, f'\\n{\"-\"*40}\\n', horizontal_gradient2)"
   ]
  },
  {
   "cell_type": "code",
   "execution_count": null,
   "metadata": {
    "colab": {
     "base_uri": "https://localhost:8080/",
     "height": 272
    },
    "id": "w0U3eC9YqdRH",
    "outputId": "a88037fa-4f93-4eba-dd90-f9958926eadf"
   },
   "outputs": [
    {
     "data": {
      "image/png": "[encoded data removed]",
      "text/plain": [
       "<PIL.Image.Image image mode=L size=255x255 at 0x7F4C00194290>"
      ]
     },
     "metadata": {
      "tags": []
     },
     "output_type": "display_data"
    }
   ],
   "source": [
    "i = cv2.imwrite('horizontal_grad1.jpg', horizontal_gradient1)\n",
    "img = cv2.imread('horizontal_grad1.jpg', cv2.IMREAD_UNCHANGED)\n",
    "cv2_imshow(img)"
   ]
  },
  {
   "cell_type": "code",
   "execution_count": null,
   "metadata": {
    "colab": {
     "base_uri": "https://localhost:8080/",
     "height": 272
    },
    "id": "czVyiTNR203-",
    "outputId": "a3f2ec36-3779-4be2-e19e-eb50f444d1ff"
   },
   "outputs": [
    {
     "data": {
      "image/png": "[encoded data removed]",
      "text/plain": [
       "<PIL.Image.Image image mode=L size=255x255 at 0x7F4C00234F90>"
      ]
     },
     "metadata": {
      "tags": []
     },
     "output_type": "display_data"
    }
   ],
   "source": [
    "i = cv2.imwrite('horizontal_grad2.jpg', horizontal_gradient2)\n",
    "img = cv2.imread('horizontal_grad2.jpg', cv2.IMREAD_UNCHANGED)\n",
    "cv2_imshow(img)"
   ]
  },
  {
   "cell_type": "code",
   "execution_count": null,
   "metadata": {
    "colab": {
     "base_uri": "https://localhost:8080/",
     "height": 272
    },
    "id": "lstprbb83ADd",
    "outputId": "2508b7c1-cb3a-4ecb-f305-6288fc4fae5d"
   },
   "outputs": [
    {
     "data": {
      "image/png": "[encoded data removed]",
      "text/plain": [
       "<PIL.Image.Image image mode=L size=255x255 at 0x7F4C0012ED50>"
      ]
     },
     "metadata": {
      "tags": []
     },
     "output_type": "display_data"
    }
   ],
   "source": [
    "i = cv2.imwrite('horizontal_grad3.jpg', horizontal_gradient1.transpose())\n",
    "img = cv2.imread('horizontal_grad3.jpg', cv2.IMREAD_UNCHANGED)\n",
    "cv2_imshow(img)"
   ]
  }
 ],
 "metadata": {
  "colab": {
   "authorship_tag": "ABX9TyNY2H7Cu/Ob2gbcAUHasP1L",
   "collapsed_sections": [],
   "include_colab_link": true,
   "name": "Numpy.ipynb",
   "provenance": []
  },
  "kernelspec": {
   "display_name": "Python 3",
   "language": "python",
   "name": "python3"
  },
  "language_info": {
   "codemirror_mode": {
    "name": "ipython",
    "version": 3
   },
   "file_extension": ".py",
   "mimetype": "text/x-python",
   "name": "python",
   "nbconvert_exporter": "python",
   "pygments_lexer": "ipython3",
   "version": "3.8.8"
  }
 },
 "nbformat": 4,
 "nbformat_minor": 1
}
